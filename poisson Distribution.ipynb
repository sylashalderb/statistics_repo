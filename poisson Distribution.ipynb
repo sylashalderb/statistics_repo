{
 "cells": [
  {
   "cell_type": "code",
   "execution_count": 5,
   "id": "4237e684-c9ee-4224-b2de-f98ec287d9e6",
   "metadata": {},
   "outputs": [],
   "source": [
    "import pandas as pd\n",
    "import numpy as np\n",
    "import matplotlib.pyplot as plt\n",
    "from scipy.stats import poisson"
   ]
  },
  {
   "cell_type": "code",
   "execution_count": 7,
   "id": "3bfc1bbc-d0b3-4bf9-82af-0662638a05e1",
   "metadata": {},
   "outputs": [],
   "source": [
    "data = pd.read_csv(\"poisson_dataset.csv\")"
   ]
  },
  {
   "cell_type": "code",
   "execution_count": 9,
   "id": "df2da961-46e3-4206-83ea-90d18763076e",
   "metadata": {},
   "outputs": [
    {
     "data": {
      "text/html": [
       "<div>\n",
       "<style scoped>\n",
       "    .dataframe tbody tr th:only-of-type {\n",
       "        vertical-align: middle;\n",
       "    }\n",
       "\n",
       "    .dataframe tbody tr th {\n",
       "        vertical-align: top;\n",
       "    }\n",
       "\n",
       "    .dataframe thead th {\n",
       "        text-align: right;\n",
       "    }\n",
       "</style>\n",
       "<table border=\"1\" class=\"dataframe\">\n",
       "  <thead>\n",
       "    <tr style=\"text-align: right;\">\n",
       "      <th></th>\n",
       "      <th>Event_Type</th>\n",
       "      <th>Average_Rate</th>\n",
       "      <th>Observed_Count</th>\n",
       "    </tr>\n",
       "  </thead>\n",
       "  <tbody>\n",
       "    <tr>\n",
       "      <th>0</th>\n",
       "      <td>Event_1</td>\n",
       "      <td>4.370861</td>\n",
       "      <td>1</td>\n",
       "    </tr>\n",
       "    <tr>\n",
       "      <th>1</th>\n",
       "      <td>Event_2</td>\n",
       "      <td>9.556429</td>\n",
       "      <td>3</td>\n",
       "    </tr>\n",
       "    <tr>\n",
       "      <th>2</th>\n",
       "      <td>Event_3</td>\n",
       "      <td>7.587945</td>\n",
       "      <td>2</td>\n",
       "    </tr>\n",
       "    <tr>\n",
       "      <th>3</th>\n",
       "      <td>Event_4</td>\n",
       "      <td>6.387926</td>\n",
       "      <td>6</td>\n",
       "    </tr>\n",
       "    <tr>\n",
       "      <th>4</th>\n",
       "      <td>Event_5</td>\n",
       "      <td>2.404168</td>\n",
       "      <td>11</td>\n",
       "    </tr>\n",
       "  </tbody>\n",
       "</table>\n",
       "</div>"
      ],
      "text/plain": [
       "  Event_Type  Average_Rate  Observed_Count\n",
       "0    Event_1      4.370861               1\n",
       "1    Event_2      9.556429               3\n",
       "2    Event_3      7.587945               2\n",
       "3    Event_4      6.387926               6\n",
       "4    Event_5      2.404168              11"
      ]
     },
     "execution_count": 9,
     "metadata": {},
     "output_type": "execute_result"
    }
   ],
   "source": [
    "data.head(5)"
   ]
  },
  {
   "cell_type": "code",
   "execution_count": 23,
   "id": "5a1688fc-8ea3-49b5-9243-b8cbb01aa3ba",
   "metadata": {
    "scrolled": true
   },
   "outputs": [
    {
     "data": {
      "text/plain": [
       "array([ 1,  3,  2,  6, 11,  8,  0,  4, 19,  5, 10,  9,  7, 14, 13, 15, 12],\n",
       "      dtype=int64)"
      ]
     },
     "execution_count": 23,
     "metadata": {},
     "output_type": "execute_result"
    }
   ],
   "source": [
    "data[\"Observed_Count\"].unique()"
   ]
  },
  {
   "cell_type": "code",
   "execution_count": 13,
   "id": "b61829c0-f9c3-4763-8d61-5e93f746fd4d",
   "metadata": {},
   "outputs": [
    {
     "data": {
      "text/html": [
       "<div>\n",
       "<style scoped>\n",
       "    .dataframe tbody tr th:only-of-type {\n",
       "        vertical-align: middle;\n",
       "    }\n",
       "\n",
       "    .dataframe tbody tr th {\n",
       "        vertical-align: top;\n",
       "    }\n",
       "\n",
       "    .dataframe thead th {\n",
       "        text-align: right;\n",
       "    }\n",
       "</style>\n",
       "<table border=\"1\" class=\"dataframe\">\n",
       "  <thead>\n",
       "    <tr style=\"text-align: right;\">\n",
       "      <th></th>\n",
       "      <th>Event_Type</th>\n",
       "      <th>Average_Rate</th>\n",
       "      <th>Observed_Count</th>\n",
       "    </tr>\n",
       "  </thead>\n",
       "  <tbody>\n",
       "    <tr>\n",
       "      <th>0</th>\n",
       "      <td>Event_1</td>\n",
       "      <td>4.370861</td>\n",
       "      <td>1</td>\n",
       "    </tr>\n",
       "    <tr>\n",
       "      <th>1</th>\n",
       "      <td>Event_2</td>\n",
       "      <td>9.556429</td>\n",
       "      <td>3</td>\n",
       "    </tr>\n",
       "  </tbody>\n",
       "</table>\n",
       "</div>"
      ],
      "text/plain": [
       "  Event_Type  Average_Rate  Observed_Count\n",
       "0    Event_1      4.370861               1\n",
       "1    Event_2      9.556429               3"
      ]
     },
     "execution_count": 13,
     "metadata": {},
     "output_type": "execute_result"
    }
   ],
   "source": [
    "data.head(2)"
   ]
  },
  {
   "cell_type": "code",
   "execution_count": 39,
   "id": "ba6d2dae-bfcb-41f1-ba4a-901d60b51253",
   "metadata": {},
   "outputs": [
    {
     "data": {
      "text/plain": [
       "12"
      ]
     },
     "execution_count": 39,
     "metadata": {},
     "output_type": "execute_result"
    }
   ],
   "source": [
    "freq = (data[\"Observed_Count\"] == 2).sum()\n",
    "freq"
   ]
  },
  {
   "cell_type": "code",
   "execution_count": 15,
   "id": "5c8abddc-3793-4eda-b584-72e060e3e98a",
   "metadata": {},
   "outputs": [],
   "source": [
    "data[\"P(Observed_Count)\"]= data.apply(lambda row: poisson.pmf(row[\"Observed_Count\"], mu = row[\"Average_Rate\"]), axis=1)"
   ]
  },
  {
   "cell_type": "code",
   "execution_count": 17,
   "id": "7b2b149c-496e-403d-a523-0bcab310a3d2",
   "metadata": {},
   "outputs": [
    {
     "data": {
      "text/html": [
       "<div>\n",
       "<style scoped>\n",
       "    .dataframe tbody tr th:only-of-type {\n",
       "        vertical-align: middle;\n",
       "    }\n",
       "\n",
       "    .dataframe tbody tr th {\n",
       "        vertical-align: top;\n",
       "    }\n",
       "\n",
       "    .dataframe thead th {\n",
       "        text-align: right;\n",
       "    }\n",
       "</style>\n",
       "<table border=\"1\" class=\"dataframe\">\n",
       "  <thead>\n",
       "    <tr style=\"text-align: right;\">\n",
       "      <th></th>\n",
       "      <th>Event_Type</th>\n",
       "      <th>Average_Rate</th>\n",
       "      <th>Observed_Count</th>\n",
       "      <th>P(Observed_Count)</th>\n",
       "    </tr>\n",
       "  </thead>\n",
       "  <tbody>\n",
       "    <tr>\n",
       "      <th>0</th>\n",
       "      <td>Event_1</td>\n",
       "      <td>4.370861</td>\n",
       "      <td>1</td>\n",
       "      <td>0.055249</td>\n",
       "    </tr>\n",
       "    <tr>\n",
       "      <th>1</th>\n",
       "      <td>Event_2</td>\n",
       "      <td>9.556429</td>\n",
       "      <td>3</td>\n",
       "      <td>0.010290</td>\n",
       "    </tr>\n",
       "    <tr>\n",
       "      <th>2</th>\n",
       "      <td>Event_3</td>\n",
       "      <td>7.587945</td>\n",
       "      <td>2</td>\n",
       "      <td>0.014582</td>\n",
       "    </tr>\n",
       "    <tr>\n",
       "      <th>3</th>\n",
       "      <td>Event_4</td>\n",
       "      <td>6.387926</td>\n",
       "      <td>6</td>\n",
       "      <td>0.158703</td>\n",
       "    </tr>\n",
       "    <tr>\n",
       "      <th>4</th>\n",
       "      <td>Event_5</td>\n",
       "      <td>2.404168</td>\n",
       "      <td>11</td>\n",
       "      <td>0.000035</td>\n",
       "    </tr>\n",
       "  </tbody>\n",
       "</table>\n",
       "</div>"
      ],
      "text/plain": [
       "  Event_Type  Average_Rate  Observed_Count  P(Observed_Count)\n",
       "0    Event_1      4.370861               1           0.055249\n",
       "1    Event_2      9.556429               3           0.010290\n",
       "2    Event_3      7.587945               2           0.014582\n",
       "3    Event_4      6.387926               6           0.158703\n",
       "4    Event_5      2.404168              11           0.000035"
      ]
     },
     "execution_count": 17,
     "metadata": {},
     "output_type": "execute_result"
    }
   ],
   "source": [
    "data.head(5)"
   ]
  },
  {
   "cell_type": "code",
   "execution_count": 47,
   "id": "9dbaf604-1a40-4826-a8bf-7e4d2bd372ea",
   "metadata": {},
   "outputs": [
    {
     "data": {
      "text/plain": [
       "Text(0, 0.5, 'P(Observed Count)')"
      ]
     },
     "execution_count": 47,
     "metadata": {},
     "output_type": "execute_result"
    },
    {
     "data": {
      "image/png": "[encoded data removed]",
      "text/plain": [
       "<Figure size 1200x600 with 2 Axes>"
      ]
     },
     "metadata": {},
     "output_type": "display_data"
    }
   ],
   "source": [
    "plt.figure(figsize=(12,6))\n",
    "\n",
    "#Histogram\n",
    "plt.subplot(1,2,1)\n",
    "plt.hist(data[\"Observed_Count\"], bins=20, color = \"blue\", alpha=0.7, edgecolor=\"black\")\n",
    "plt.title(\"Distribution of Observed Count\")\n",
    "plt.xlabel(\"Observed Count\")\n",
    "plt.ylabel(\"Frequency\")\n",
    "\n",
    "#Scatter\n",
    "plt.subplot(1,2,2)\n",
    "plt.scatter(data[\"Average_Rate\"], data[\"P(Observed_Count)\"], color=\"red\", alpha=0.7)\n",
    "plt.title(\"Average Rate vs P(Observed Count)\")\n",
    "plt.xlabel(\"Average Rate Lambda\")\n",
    "plt.ylabel(\"P(Observed Count)\")\n"
   ]
  },
  {
   "cell_type": "code",
   "execution_count": null,
   "id": "63894848-a7c6-4445-8899-78bc398d6a09",
   "metadata": {},
   "outputs": [],
   "source": []
  }
 ],
 "metadata": {
  "kernelspec": {
   "display_name": "Python 3 (ipykernel)",
   "language": "python",
   "name": "python3"
  },
  "language_info": {
   "codemirror_mode": {
    "name": "ipython",
    "version": 3
   },
   "file_extension": ".py",
   "mimetype": "text/x-python",
   "name": "python",
   "nbconvert_exporter": "python",
   "pygments_lexer": "ipython3",
   "version": "3.12.4"
  }
 },
 "nbformat": 4,
 "nbformat_minor": 5
}
