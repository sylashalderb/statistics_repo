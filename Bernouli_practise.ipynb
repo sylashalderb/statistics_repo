{
 "cells": [
  {
   "cell_type": "code",
   "execution_count": 27,
   "id": "8c49a04f-3ae8-4904-be0e-54fe3fa42211",
   "metadata": {},
   "outputs": [],
   "source": [
    "#Step 1:\n",
    "import pandas as pd\n",
    "import numpy as np\n",
    "import matplotlib.pyplot as plt"
   ]
  },
  {
   "cell_type": "code",
   "execution_count": 29,
   "id": "e22f896d-499b-48d3-9cf3-3430c31aaefe",
   "metadata": {},
   "outputs": [],
   "source": [
    "df = pd.read_csv(\"light_bulbs_quality_control.csv\")"
   ]
  },
  {
   "cell_type": "code",
   "execution_count": 31,
   "id": "907e0944-acd1-449f-b280-c19b5566de47",
   "metadata": {},
   "outputs": [
    {
     "data": {
      "text/html": [
       "<div>\n",
       "<style scoped>\n",
       "    .dataframe tbody tr th:only-of-type {\n",
       "        vertical-align: middle;\n",
       "    }\n",
       "\n",
       "    .dataframe tbody tr th {\n",
       "        vertical-align: top;\n",
       "    }\n",
       "\n",
       "    .dataframe thead th {\n",
       "        text-align: right;\n",
       "    }\n",
       "</style>\n",
       "<table border=\"1\" class=\"dataframe\">\n",
       "  <thead>\n",
       "    <tr style=\"text-align: right;\">\n",
       "      <th></th>\n",
       "      <th>ID</th>\n",
       "      <th>Test_Result</th>\n",
       "      <th>Batch_ID</th>\n",
       "      <th>Failure_Reason</th>\n",
       "      <th>Manufacture_Date</th>\n",
       "    </tr>\n",
       "  </thead>\n",
       "  <tbody>\n",
       "    <tr>\n",
       "      <th>0</th>\n",
       "      <td>1</td>\n",
       "      <td>0</td>\n",
       "      <td>Batch C</td>\n",
       "      <td>NaN</td>\n",
       "      <td>2024-06-06</td>\n",
       "    </tr>\n",
       "    <tr>\n",
       "      <th>1</th>\n",
       "      <td>2</td>\n",
       "      <td>1</td>\n",
       "      <td>Batch C</td>\n",
       "      <td>NaN</td>\n",
       "      <td>2024-12-14</td>\n",
       "    </tr>\n",
       "    <tr>\n",
       "      <th>2</th>\n",
       "      <td>3</td>\n",
       "      <td>0</td>\n",
       "      <td>Batch A</td>\n",
       "      <td>NaN</td>\n",
       "      <td>2024-06-28</td>\n",
       "    </tr>\n",
       "    <tr>\n",
       "      <th>3</th>\n",
       "      <td>4</td>\n",
       "      <td>0</td>\n",
       "      <td>Batch A</td>\n",
       "      <td>NaN</td>\n",
       "      <td>2024-05-07</td>\n",
       "    </tr>\n",
       "    <tr>\n",
       "      <th>4</th>\n",
       "      <td>5</td>\n",
       "      <td>0</td>\n",
       "      <td>Batch B</td>\n",
       "      <td>NaN</td>\n",
       "      <td>2024-09-20</td>\n",
       "    </tr>\n",
       "    <tr>\n",
       "      <th>5</th>\n",
       "      <td>6</td>\n",
       "      <td>0</td>\n",
       "      <td>Batch A</td>\n",
       "      <td>NaN</td>\n",
       "      <td>2024-12-13</td>\n",
       "    </tr>\n",
       "    <tr>\n",
       "      <th>6</th>\n",
       "      <td>7</td>\n",
       "      <td>0</td>\n",
       "      <td>Batch C</td>\n",
       "      <td>NaN</td>\n",
       "      <td>2024-05-04</td>\n",
       "    </tr>\n",
       "    <tr>\n",
       "      <th>7</th>\n",
       "      <td>8</td>\n",
       "      <td>1</td>\n",
       "      <td>Batch C</td>\n",
       "      <td>NaN</td>\n",
       "      <td>2024-02-19</td>\n",
       "    </tr>\n",
       "    <tr>\n",
       "      <th>8</th>\n",
       "      <td>9</td>\n",
       "      <td>0</td>\n",
       "      <td>Batch A</td>\n",
       "      <td>NaN</td>\n",
       "      <td>2024-11-18</td>\n",
       "    </tr>\n",
       "    <tr>\n",
       "      <th>9</th>\n",
       "      <td>10</td>\n",
       "      <td>0</td>\n",
       "      <td>Batch C</td>\n",
       "      <td>Base Crack</td>\n",
       "      <td>2024-06-03</td>\n",
       "    </tr>\n",
       "  </tbody>\n",
       "</table>\n",
       "</div>"
      ],
      "text/plain": [
       "   ID  Test_Result Batch_ID Failure_Reason Manufacture_Date\n",
       "0   1            0  Batch C            NaN       2024-06-06\n",
       "1   2            1  Batch C            NaN       2024-12-14\n",
       "2   3            0  Batch A            NaN       2024-06-28\n",
       "3   4            0  Batch A            NaN       2024-05-07\n",
       "4   5            0  Batch B            NaN       2024-09-20\n",
       "5   6            0  Batch A            NaN       2024-12-13\n",
       "6   7            0  Batch C            NaN       2024-05-04\n",
       "7   8            1  Batch C            NaN       2024-02-19\n",
       "8   9            0  Batch A            NaN       2024-11-18\n",
       "9  10            0  Batch C     Base Crack       2024-06-03"
      ]
     },
     "execution_count": 31,
     "metadata": {},
     "output_type": "execute_result"
    }
   ],
   "source": [
    "df.head(10)"
   ]
  },
  {
   "cell_type": "code",
   "execution_count": 33,
   "id": "e11d28a2-5d97-4a60-b74f-eb321ace1268",
   "metadata": {},
   "outputs": [],
   "source": [
    "#Step - 2:\n",
    "Outcomes = df[\"Test_Result\"]"
   ]
  },
  {
   "cell_type": "code",
   "execution_count": 35,
   "id": "6a1f5be4-f728-437c-a28c-88a810225b05",
   "metadata": {},
   "outputs": [
    {
     "data": {
      "text/plain": [
       "0    0\n",
       "1    1\n",
       "2    0\n",
       "3    0\n",
       "4    0\n",
       "5    0\n",
       "6    0\n",
       "7    1\n",
       "8    0\n",
       "9    0\n",
       "Name: Test_Result, dtype: int64"
      ]
     },
     "execution_count": 35,
     "metadata": {},
     "output_type": "execute_result"
    }
   ],
   "source": [
    "Outcomes.head(10)"
   ]
  },
  {
   "cell_type": "code",
   "execution_count": 37,
   "id": "8a90a2e3-0a05-4264-ba03-d0b776d44be8",
   "metadata": {},
   "outputs": [],
   "source": [
    "#Step 3:\n",
    "p = Outcomes.mean()"
   ]
  },
  {
   "cell_type": "code",
   "execution_count": 39,
   "id": "94e7df34-160b-4276-a622-a2bcef4e18c6",
   "metadata": {},
   "outputs": [
    {
     "data": {
      "text/plain": [
       "0.18"
      ]
     },
     "execution_count": 39,
     "metadata": {},
     "output_type": "execute_result"
    }
   ],
   "source": [
    "p"
   ]
  },
  {
   "cell_type": "code",
   "execution_count": 43,
   "id": "4d6050c1-33db-4513-bf4c-b2f9e13d72ac",
   "metadata": {},
   "outputs": [
    {
     "name": "stdout",
     "output_type": "stream",
     "text": [
      " PMF for X = 0: 0.8200000000000001\n",
      " PMF for X = 1: 0.18\n"
     ]
    }
   ],
   "source": [
    "#Step 4:\n",
    "#Calculation of pmf:\n",
    "\n",
    "def bernoulli_pmf(x, p):\n",
    "    return p**x * (1-p)**(1-x)\n",
    "\n",
    "\n",
    "pmf_0 = bernoulli_pmf(0, p)\n",
    "pmf_1 = bernoulli_pmf(1, p)\n",
    "\n",
    "print(f\" PMF for X = 0: {pmf_0}\")\n",
    "print(f\" PMF for X = 1: {pmf_1}\")"
   ]
  },
  {
   "cell_type": "code",
   "execution_count": 45,
   "id": "1746fe82-5dc5-484e-925a-08e9573c7809",
   "metadata": {},
   "outputs": [],
   "source": [
    "#Step-5\n",
    "# Expected Mean\n",
    "mean = p\n"
   ]
  },
  {
   "cell_type": "code",
   "execution_count": 47,
   "id": "40838531-32fe-4f74-89f8-4d41a16bc5d7",
   "metadata": {},
   "outputs": [
    {
     "data": {
      "text/plain": [
       "0.18"
      ]
     },
     "execution_count": 47,
     "metadata": {},
     "output_type": "execute_result"
    }
   ],
   "source": [
    "mean"
   ]
  },
  {
   "cell_type": "code",
   "execution_count": 53,
   "id": "e92aed8b-5a17-4d00-86de-e09fa09a0e9a",
   "metadata": {},
   "outputs": [],
   "source": [
    "#Step - 6:\n",
    "#Variance:\n",
    "var = p * (1-p)"
   ]
  },
  {
   "cell_type": "raw",
   "id": "8ff85d7a-9736-48ba-b05a-2f22795fdbe5",
   "metadata": {},
   "source": [
    "var"
   ]
  },
  {
   "cell_type": "code",
   "execution_count": 55,
   "id": "e1b76af7-c05b-4029-8bb1-3a61bd1bb42b",
   "metadata": {},
   "outputs": [
    {
     "data": {
      "text/plain": [
       "0.1476"
      ]
     },
     "execution_count": 55,
     "metadata": {},
     "output_type": "execute_result"
    }
   ],
   "source": [
    "var"
   ]
  },
  {
   "cell_type": "code",
   "execution_count": 67,
   "id": "39b440e0-e0f5-4e0f-8453-70754c7fc12d",
   "metadata": {},
   "outputs": [],
   "source": [
    "#Step-7:\n",
    "std_dev = var **0.5"
   ]
  },
  {
   "cell_type": "code",
   "execution_count": 59,
   "id": "1c8c317b-53df-415f-8d8c-cce7117bfcfe",
   "metadata": {},
   "outputs": [
    {
     "data": {
      "text/plain": [
       "0.38418745424597095"
      ]
     },
     "execution_count": 59,
     "metadata": {},
     "output_type": "execute_result"
    }
   ],
   "source": [
    "std_dev"
   ]
  },
  {
   "cell_type": "code",
   "execution_count": 69,
   "id": "5d1bec9f-9b9a-452f-b0c3-1dd2e529d526",
   "metadata": {},
   "outputs": [],
   "source": [
    "#Step-8:\n",
    "skewness = (1-2 * p) / np.sqrt(p * (1-p)) "
   ]
  },
  {
   "cell_type": "code",
   "execution_count": 65,
   "id": "917c9a2a-1114-4099-a914-48aceace152b",
   "metadata": {},
   "outputs": [
    {
     "data": {
      "text/plain": [
       "1.6658534601451314"
      ]
     },
     "execution_count": 65,
     "metadata": {},
     "output_type": "execute_result"
    }
   ],
   "source": [
    "skewness"
   ]
  },
  {
   "cell_type": "code",
   "execution_count": 71,
   "id": "2726d817-4a17-409c-9271-1c23ccf15a63",
   "metadata": {},
   "outputs": [],
   "source": [
    "#Step - 9:\n",
    "\n",
    "Kourtosis = (1-6 * p * (1-p)) / (p * (1-p))"
   ]
  },
  {
   "cell_type": "code",
   "execution_count": 73,
   "id": "7edb935c-9814-4448-a24b-53cd742423a1",
   "metadata": {},
   "outputs": [
    {
     "data": {
      "text/plain": [
       "0.7750677506775057"
      ]
     },
     "execution_count": 73,
     "metadata": {},
     "output_type": "execute_result"
    }
   ],
   "source": [
    "Kourtosis"
   ]
  },
  {
   "cell_type": "code",
   "execution_count": 98,
   "id": "8a68aa94-fc27-43a7-a04f-1a8f43cb0a48",
   "metadata": {},
   "outputs": [
    {
     "data": {
      "image/png": "[encoded data removed]",
      "text/plain": [
       "<Figure size 640x480 with 1 Axes>"
      ]
     },
     "metadata": {},
     "output_type": "display_data"
    }
   ],
   "source": [
    "x_vals = [0, 1]\n",
    "y_vals = [pmf_0, pmf_1]\n",
    "\n",
    "plt.bar(x_vals, y_vals, tick_label = [\"X=0\" , \"X=1\"])\n",
    "plt.title(\"Bernoulli Distribution PMF\")\n",
    "plt.xlabel(\"X\")\n",
    "plt.ylabel(\"Probability\")\n",
    "plt.show()\n",
    "        "
   ]
  },
  {
   "cell_type": "code",
   "execution_count": null,
   "id": "2f2acd08-5101-4b59-9097-0ed5524e43fc",
   "metadata": {},
   "outputs": [],
   "source": []
  }
 ],
 "metadata": {
  "kernelspec": {
   "display_name": "Python 3 (ipykernel)",
   "language": "python",
   "name": "python3"
  },
  "language_info": {
   "codemirror_mode": {
    "name": "ipython",
    "version": 3
   },
   "file_extension": ".py",
   "mimetype": "text/x-python",
   "name": "python",
   "nbconvert_exporter": "python",
   "pygments_lexer": "ipython3",
   "version": "3.12.4"
  }
 },
 "nbformat": 4,
 "nbformat_minor": 5
}
