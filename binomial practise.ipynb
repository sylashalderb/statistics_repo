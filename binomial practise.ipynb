{
 "cells": [
  {
   "cell_type": "code",
   "execution_count": 1,
   "id": "8bf20103-33eb-4e59-8215-24170f5c8e70",
   "metadata": {},
   "outputs": [],
   "source": [
    "import pandas as pd\n",
    "import numpy as np\n",
    "import matplotlib.pyplot as plt"
   ]
  },
  {
   "cell_type": "code",
   "execution_count": 3,
   "id": "f42601ef-1c9b-4f5a-b7f8-e1a2c932ea68",
   "metadata": {},
   "outputs": [],
   "source": [
    "data = pd.read_csv(\"beverage_factory_quality_data.csv\")"
   ]
  },
  {
   "cell_type": "code",
   "execution_count": 5,
   "id": "75a2b590-db40-4ef4-be62-cd102e293638",
   "metadata": {},
   "outputs": [
    {
     "data": {
      "text/html": [
       "<div>\n",
       "<style scoped>\n",
       "    .dataframe tbody tr th:only-of-type {\n",
       "        vertical-align: middle;\n",
       "    }\n",
       "\n",
       "    .dataframe tbody tr th {\n",
       "        vertical-align: top;\n",
       "    }\n",
       "\n",
       "    .dataframe thead th {\n",
       "        text-align: right;\n",
       "    }\n",
       "</style>\n",
       "<table border=\"1\" class=\"dataframe\">\n",
       "  <thead>\n",
       "    <tr style=\"text-align: right;\">\n",
       "      <th></th>\n",
       "      <th>Batch_ID</th>\n",
       "      <th>Inspected_Bottles</th>\n",
       "      <th>Quality_Bottles</th>\n",
       "      <th>Defective_Bottles</th>\n",
       "    </tr>\n",
       "  </thead>\n",
       "  <tbody>\n",
       "    <tr>\n",
       "      <th>0</th>\n",
       "      <td>1</td>\n",
       "      <td>10</td>\n",
       "      <td>10</td>\n",
       "      <td>0</td>\n",
       "    </tr>\n",
       "    <tr>\n",
       "      <th>1</th>\n",
       "      <td>2</td>\n",
       "      <td>10</td>\n",
       "      <td>9</td>\n",
       "      <td>1</td>\n",
       "    </tr>\n",
       "    <tr>\n",
       "      <th>2</th>\n",
       "      <td>3</td>\n",
       "      <td>10</td>\n",
       "      <td>10</td>\n",
       "      <td>0</td>\n",
       "    </tr>\n",
       "    <tr>\n",
       "      <th>3</th>\n",
       "      <td>4</td>\n",
       "      <td>10</td>\n",
       "      <td>9</td>\n",
       "      <td>1</td>\n",
       "    </tr>\n",
       "    <tr>\n",
       "      <th>4</th>\n",
       "      <td>5</td>\n",
       "      <td>10</td>\n",
       "      <td>8</td>\n",
       "      <td>2</td>\n",
       "    </tr>\n",
       "    <tr>\n",
       "      <th>5</th>\n",
       "      <td>6</td>\n",
       "      <td>10</td>\n",
       "      <td>10</td>\n",
       "      <td>0</td>\n",
       "    </tr>\n",
       "    <tr>\n",
       "      <th>6</th>\n",
       "      <td>7</td>\n",
       "      <td>10</td>\n",
       "      <td>9</td>\n",
       "      <td>1</td>\n",
       "    </tr>\n",
       "    <tr>\n",
       "      <th>7</th>\n",
       "      <td>8</td>\n",
       "      <td>10</td>\n",
       "      <td>8</td>\n",
       "      <td>2</td>\n",
       "    </tr>\n",
       "    <tr>\n",
       "      <th>8</th>\n",
       "      <td>9</td>\n",
       "      <td>10</td>\n",
       "      <td>10</td>\n",
       "      <td>0</td>\n",
       "    </tr>\n",
       "    <tr>\n",
       "      <th>9</th>\n",
       "      <td>10</td>\n",
       "      <td>10</td>\n",
       "      <td>10</td>\n",
       "      <td>0</td>\n",
       "    </tr>\n",
       "  </tbody>\n",
       "</table>\n",
       "</div>"
      ],
      "text/plain": [
       "   Batch_ID  Inspected_Bottles  Quality_Bottles  Defective_Bottles\n",
       "0         1                 10               10                  0\n",
       "1         2                 10                9                  1\n",
       "2         3                 10               10                  0\n",
       "3         4                 10                9                  1\n",
       "4         5                 10                8                  2\n",
       "5         6                 10               10                  0\n",
       "6         7                 10                9                  1\n",
       "7         8                 10                8                  2\n",
       "8         9                 10               10                  0\n",
       "9        10                 10               10                  0"
      ]
     },
     "execution_count": 5,
     "metadata": {},
     "output_type": "execute_result"
    }
   ],
   "source": [
    "data.head(10)"
   ]
  },
  {
   "cell_type": "code",
   "execution_count": 7,
   "id": "361069cb-9bd7-4bd8-84d4-19d9b44c08e8",
   "metadata": {},
   "outputs": [],
   "source": [
    "defective_counts = data[\"Defective_Bottles\"]"
   ]
  },
  {
   "cell_type": "code",
   "execution_count": 29,
   "id": "4eed4ec8-9831-44cf-8eb2-832577883ba1",
   "metadata": {},
   "outputs": [
    {
     "data": {
      "text/plain": [
       "0    0\n",
       "1    1\n",
       "2    0\n",
       "3    1\n",
       "4    2\n",
       "5    0\n",
       "6    1\n",
       "7    2\n",
       "8    0\n",
       "9    0\n",
       "Name: Defective_Bottles, dtype: int64"
      ]
     },
     "execution_count": 29,
     "metadata": {},
     "output_type": "execute_result"
    }
   ],
   "source": [
    "defective_counts.head(10)"
   ]
  },
  {
   "cell_type": "code",
   "execution_count": 39,
   "id": "b4ad43c2-15eb-4dea-8391-f95f2839b93c",
   "metadata": {},
   "outputs": [],
   "source": [
    "n = data[\"Inspected_Bottles\"].iloc[2]"
   ]
  },
  {
   "cell_type": "code",
   "execution_count": 41,
   "id": "b35f596c-f8e7-45ab-9284-aea2ad980801",
   "metadata": {},
   "outputs": [
    {
     "data": {
      "text/plain": [
       "10"
      ]
     },
     "execution_count": 41,
     "metadata": {},
     "output_type": "execute_result"
    }
   ],
   "source": [
    "n"
   ]
  },
  {
   "cell_type": "code",
   "execution_count": 43,
   "id": "0817494d-6ffd-4775-b049-020f299ec852",
   "metadata": {},
   "outputs": [],
   "source": [
    "p_values = defective_counts.value_counts().sort_index()/n"
   ]
  },
  {
   "cell_type": "code",
   "execution_count": 45,
   "id": "accdde8a-9e04-431e-b276-cbd4aea8f17b",
   "metadata": {},
   "outputs": [
    {
     "data": {
      "text/plain": [
       "Defective_Bottles\n",
       "0    4.0\n",
       "1    3.3\n",
       "2    2.2\n",
       "3    0.5\n",
       "Name: count, dtype: float64"
      ]
     },
     "execution_count": 45,
     "metadata": {},
     "output_type": "execute_result"
    }
   ],
   "source": [
    "p_values"
   ]
  },
  {
   "cell_type": "code",
   "execution_count": 47,
   "id": "cf87cde8-bfd4-4db7-b5c9-9f37bba49ef2",
   "metadata": {},
   "outputs": [],
   "source": [
    "frequency = defective_counts.value_counts().sort_index()"
   ]
  },
  {
   "cell_type": "code",
   "execution_count": 49,
   "id": "9aec405b-b1d8-49a1-a746-49e6dc56cf9d",
   "metadata": {},
   "outputs": [
    {
     "data": {
      "text/plain": [
       "Defective_Bottles\n",
       "0    40\n",
       "1    33\n",
       "2    22\n",
       "3     5\n",
       "Name: count, dtype: int64"
      ]
     },
     "execution_count": 49,
     "metadata": {},
     "output_type": "execute_result"
    }
   ],
   "source": [
    "frequency"
   ]
  },
  {
   "cell_type": "code",
   "execution_count": 51,
   "id": "52ab0f8c-342f-4fc8-8c58-fde9cfdf1635",
   "metadata": {},
   "outputs": [
    {
     "data": {
      "text/plain": [
       "100"
      ]
     },
     "execution_count": 51,
     "metadata": {},
     "output_type": "execute_result"
    }
   ],
   "source": [
    "len(defective_counts)"
   ]
  },
  {
   "cell_type": "code",
   "execution_count": 53,
   "id": "cec352f4-ba7a-4791-b41f-8ca7ac6f27f2",
   "metadata": {},
   "outputs": [],
   "source": [
    "pmf = frequency/len(defective_counts)"
   ]
  },
  {
   "cell_type": "code",
   "execution_count": 55,
   "id": "db1b5fea-210e-40f5-8376-b9aa0ca7d3fc",
   "metadata": {},
   "outputs": [
    {
     "data": {
      "text/plain": [
       "Defective_Bottles\n",
       "0    0.40\n",
       "1    0.33\n",
       "2    0.22\n",
       "3    0.05\n",
       "Name: count, dtype: float64"
      ]
     },
     "execution_count": 55,
     "metadata": {},
     "output_type": "execute_result"
    }
   ],
   "source": [
    "pmf"
   ]
  },
  {
   "cell_type": "code",
   "execution_count": 57,
   "id": "f5e362eb-9a4d-4ace-99d5-5807fd606c70",
   "metadata": {},
   "outputs": [
    {
     "data": {
      "text/plain": [
       "1.0"
      ]
     },
     "execution_count": 57,
     "metadata": {},
     "output_type": "execute_result"
    }
   ],
   "source": [
    "pmf.sum()"
   ]
  },
  {
   "cell_type": "code",
   "execution_count": 81,
   "id": "2a0816ad-3c98-44f9-bc96-6205699fa756",
   "metadata": {},
   "outputs": [
    {
     "data": {
      "image/png": "[encoded data removed]",
      "text/plain": [
       "<Figure size 800x500 with 1 Axes>"
      ]
     },
     "metadata": {},
     "output_type": "display_data"
    }
   ],
   "source": [
    "plt.figure(figsize = (8,5))\n",
    "plt.bar(pmf.index, pmf.values, color = \"skyblue\", edgecolor = \"black\")\n",
    "plt.title(\"PMF of Defective Bottles\", fontsize =14)\n",
    "plt.xlabel(\"Number of Defective Bottles\", fontsize = 12)\n",
    "plt.ylabel(\"Probability\", fontsize = 12)\n",
    "plt.xticks(pmf.index)\n",
    "plt.grid(axis = \"y\", linestyle = \"--\", alpha = 0.8)\n",
    "plt.show()"
   ]
  },
  {
   "cell_type": "code",
   "execution_count": 83,
   "id": "4080e500-e0e5-42c9-a0d3-8894bc67a1f8",
   "metadata": {},
   "outputs": [],
   "source": [
    "mean = defective_counts.mean()"
   ]
  },
  {
   "cell_type": "code",
   "execution_count": 85,
   "id": "52fdee86-cf08-4744-8e49-410fef82bc72",
   "metadata": {},
   "outputs": [
    {
     "data": {
      "text/plain": [
       "0.92"
      ]
     },
     "execution_count": 85,
     "metadata": {},
     "output_type": "execute_result"
    }
   ],
   "source": [
    "mean"
   ]
  },
  {
   "cell_type": "code",
   "execution_count": 87,
   "id": "1edb83a2-3dc6-4251-8635-dafcfd694d17",
   "metadata": {},
   "outputs": [],
   "source": [
    "variance = defective_counts.var()"
   ]
  },
  {
   "cell_type": "code",
   "execution_count": 89,
   "id": "e6927bb4-cd8f-4967-8624-d57bc2c7e02b",
   "metadata": {},
   "outputs": [
    {
     "data": {
      "text/plain": [
       "0.821818181818182"
      ]
     },
     "execution_count": 89,
     "metadata": {},
     "output_type": "execute_result"
    }
   ],
   "source": [
    "variance"
   ]
  },
  {
   "cell_type": "code",
   "execution_count": 91,
   "id": "bc47b2a8-d3ea-465c-86e8-06ccd23b4582",
   "metadata": {},
   "outputs": [],
   "source": [
    "std_dev = defective_counts.std()"
   ]
  },
  {
   "cell_type": "code",
   "execution_count": 93,
   "id": "2f40f4ab-a7ae-449d-bdcf-0b7eef85dad8",
   "metadata": {},
   "outputs": [
    {
     "data": {
      "text/plain": [
       "0.9065418808958481"
      ]
     },
     "execution_count": 93,
     "metadata": {},
     "output_type": "execute_result"
    }
   ],
   "source": [
    "std_dev"
   ]
  },
  {
   "cell_type": "code",
   "execution_count": 95,
   "id": "9aa6a5aa-3344-4c2d-b09e-21f29fe1cbec",
   "metadata": {},
   "outputs": [
    {
     "data": {
      "image/png": "[encoded data removed]",
      "text/plain": [
       "<Figure size 1000x600 with 1 Axes>"
      ]
     },
     "metadata": {},
     "output_type": "display_data"
    }
   ],
   "source": [
    "# Plot the distribution with mean, variance, and standard deviation\n",
    "plt.figure(figsize=(10, 6))\n",
    "plt.hist(defective_counts, bins=range(defective_counts.min(), defective_counts.max() + 2), color='lightgreen', edgecolor='black', alpha=0.7)\n",
    "plt.axvline(mean, color='red', linestyle='dashed', linewidth=1.5, label=f'Mean = {mean:.2f}')\n",
    "plt.axvline(mean + std_dev, color='blue', linestyle='dashed', linewidth=1.5, label=f'Mean + Std Dev = {(mean + std_dev):.2f}')\n",
    "plt.axvline(mean - std_dev, color='blue', linestyle='dashed', linewidth=1.5, label=f'Mean - Std Dev = {(mean - std_dev):.2f}')\n",
    "plt.title('Distribution of Defective Bottles', fontsize=14)\n",
    "plt.xlabel('Number of Defective Bottles', fontsize=12)\n",
    "plt.ylabel('Frequency', fontsize=12)\n",
    "plt.legend()\n",
    "plt.grid(axis='y', linestyle='--', alpha=0.7)\n",
    "plt.show()"
   ]
  },
  {
   "cell_type": "code",
   "execution_count": null,
   "id": "8841bf89-2b89-4d22-a48f-93cdaf5129c8",
   "metadata": {},
   "outputs": [],
   "source": []
  }
 ],
 "metadata": {
  "kernelspec": {
   "display_name": "Python 3 (ipykernel)",
   "language": "python",
   "name": "python3"
  },
  "language_info": {
   "codemirror_mode": {
    "name": "ipython",
    "version": 3
   },
   "file_extension": ".py",
   "mimetype": "text/x-python",
   "name": "python",
   "nbconvert_exporter": "python",
   "pygments_lexer": "ipython3",
   "version": "3.12.4"
  }
 },
 "nbformat": 4,
 "nbformat_minor": 5
}
